{
  "cells": [
    {
      "cell_type": "markdown",
      "metadata": {
        "id": "view-in-github",
        "colab_type": "text"
      },
      "source": [
        "<a href=\"https://colab.research.google.com/github/BorisMejiasII/Proyecto-MachineLearning/blob/main/Semana2_ReproduccionBaseline_BorisMej%C3%ADas.ipynb\" target=\"_parent\"><img src=\"https://colab.research.google.com/assets/colab-badge.svg\" alt=\"Open In Colab\"/></a>"
      ]
    },
    {
      "cell_type": "markdown",
      "id": "b7eb4906",
      "metadata": {
        "id": "b7eb4906"
      },
      "source": [
        "# Semana 2: Reproducción del baseline"
      ]
    },
    {
      "cell_type": "markdown",
      "id": "85633083",
      "metadata": {
        "id": "85633083"
      },
      "source": [
        "## 1. Preprocesamiento de señales (filtrado, detección de picos R)"
      ]
    },
    {
      "cell_type": "markdown",
      "id": "0b096b20",
      "metadata": {
        "id": "0b096b20"
      },
      "source": [
        "## 2. Extracción de características (HRV, estadísticas)"
      ]
    },
    {
      "cell_type": "markdown",
      "id": "3e732271",
      "metadata": {
        "id": "3e732271"
      },
      "source": [
        "## 3. Entrenamiento del modelo baseline (Random Forest)"
      ]
    },
    {
      "cell_type": "markdown",
      "id": "b4e47e34",
      "metadata": {
        "id": "b4e47e34"
      },
      "source": [
        "## 4. Evaluación simple (train/test o validación cruzada)"
      ]
    }
  ],
  "metadata": {
    "colab": {
      "provenance": [],
      "include_colab_link": true
    }
  },
  "nbformat": 4,
  "nbformat_minor": 5
}