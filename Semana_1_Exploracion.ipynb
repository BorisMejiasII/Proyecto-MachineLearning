{
  "cells": [
    {
      "cell_type": "markdown",
      "id": "8144e0ac",
      "metadata": {
        "id": "8144e0ac"
      },
      "source": [
        "# Semana 1: Exploración del problema y del dataset"
      ]
    },
    {
      "cell_type": "markdown",
      "id": "cc5a22b1",
      "metadata": {
        "id": "cc5a22b1"
      },
      "source": [
        "## 1. Cargar y visualizar señales ECG"
      ]
    },
    {
      "cell_type": "code",
      "source": [
        "#Aqui va a estar el código"
      ],
      "metadata": {
        "id": "cD4il-k8Vc7M"
      },
      "id": "cD4il-k8Vc7M",
      "execution_count": null,
      "outputs": []
    },
    {
      "cell_type": "markdown",
      "id": "a4c761e0",
      "metadata": {
        "id": "a4c761e0"
      },
      "source": [
        "### Recomendación: usar matplotlib, wfdb, scipy.io"
      ]
    },
    {
      "cell_type": "markdown",
      "id": "355d7de6",
      "metadata": {
        "id": "355d7de6"
      },
      "source": [
        "## 2. Resumen del artículo base (Clifford et al., 2017)"
      ]
    },
    {
      "cell_type": "markdown",
      "id": "73f335a7",
      "metadata": {
        "id": "73f335a7"
      },
      "source": [
        "## 3. Análisis del dataset (cantidad de señales, duración, etiquetas, etc.)"
      ]
    }
  ],
  "metadata": {
    "colab": {
      "provenance": []
    }
  },
  "nbformat": 4,
  "nbformat_minor": 5
}